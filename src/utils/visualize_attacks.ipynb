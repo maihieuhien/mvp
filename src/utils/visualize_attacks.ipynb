{
 "cells": [
  {
   "cell_type": "code",
   "execution_count": 1,
   "metadata": {},
   "outputs": [],
   "source": [
    "import pandas as pd\n",
    "csv = pd.read_csv(\"prompt_model_samples.csv\")"
   ]
  },
  {
   "cell_type": "code",
   "execution_count": 5,
   "metadata": {},
   "outputs": [
    {
     "ename": "SyntaxError",
     "evalue": "illegal target for annotation (<ipython-input-5-65ee5b537162>, line 1)",
     "output_type": "error",
     "traceback": [
      "\u001b[0;36m  File \u001b[0;32m\"<ipython-input-5-65ee5b537162>\"\u001b[0;36m, line \u001b[0;32m1\u001b[0m\n\u001b[0;31m    \"notebook.output.textLineLimit\": 500\u001b[0m\n\u001b[0m    ^\u001b[0m\n\u001b[0;31mSyntaxError\u001b[0m\u001b[0;31m:\u001b[0m illegal target for annotation\n"
     ]
    }
   ],
   "source": [
    "\"notebook.output.textLineLimit\": 500\n",
    "\n",
    "def color_text(sentence, original=True):\n",
    "    color = 32 if original else 31\n",
    "    start_phrase = f\"\\033[1;{color};10m\"\n",
    "    end_phrase = f\"\\033[1;{color};0m\"\n",
    "    text = sentence.replace(\"[[\", start_phrase)\n",
    "    text = text.replace(\"]]\", end_phrase)\n",
    "    return(text)\n",
    "\n",
    "for i, (original, perturbed) in enumerate(zip(csv[\"original_text\"], csv[\"perturbed_text\"])):\n",
    "    original = color_text(original)\n",
    "    perturbed = color_text(perturbed, original = False)\n",
    "    print(f\"##################### Example {i+1} #######################\")\n",
    "    print(original)\n",
    "    print(perturbed, \"\\n\")"
   ]
  },
  {
   "cell_type": "code",
   "execution_count": null,
   "metadata": {},
   "outputs": [],
   "source": []
  }
 ],
 "metadata": {
  "kernelspec": {
   "display_name": "Python 3.8.10 64-bit",
   "language": "python",
   "name": "python3"
  },
  "language_info": {
   "codemirror_mode": {
    "name": "ipython",
    "version": 3
   },
   "file_extension": ".py",
   "mimetype": "text/x-python",
   "name": "python",
   "nbconvert_exporter": "python",
   "pygments_lexer": "ipython3",
   "version": "3.8.10"
  },
  "orig_nbformat": 4,
  "vscode": {
   "interpreter": {
    "hash": "e7370f93d1d0cde622a1f8e1c04877d8463912d04d973331ad4851f04de6915a"
   }
  }
 },
 "nbformat": 4,
 "nbformat_minor": 2
}
